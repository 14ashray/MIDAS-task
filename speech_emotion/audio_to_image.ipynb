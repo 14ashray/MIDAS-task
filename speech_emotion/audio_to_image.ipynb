{
  "nbformat": 4,
  "nbformat_minor": 0,
  "metadata": {
    "colab": {
      "name": "audio_to_image.ipynb",
      "provenance": [],
      "collapsed_sections": []
    },
    "kernelspec": {
      "name": "python3",
      "display_name": "Python 3"
    },
    "accelerator": "GPU"
  },
  "cells": [
    {
      "cell_type": "code",
      "metadata": {
        "id": "OgDhJbfqVFqv",
        "colab_type": "code",
        "colab": {
          "base_uri": "https://localhost:8080/",
          "height": 122
        },
        "outputId": "e27c16f5-3b80-4a42-af35-ccfc3400f157"
      },
      "source": [
        "from google.colab import drive\n",
        "drive.mount('/content/drive')"
      ],
      "execution_count": 1,
      "outputs": [
        {
          "output_type": "stream",
          "text": [
            "Go to this URL in a browser: https://accounts.google.com/o/oauth2/auth?client_id=947318989803-6bn6qk8qdgf4n4g3pfee6491hc0brc4i.apps.googleusercontent.com&redirect_uri=urn%3Aietf%3Awg%3Aoauth%3A2.0%3Aoob&scope=email%20https%3A%2F%2Fwww.googleapis.com%2Fauth%2Fdocs.test%20https%3A%2F%2Fwww.googleapis.com%2Fauth%2Fdrive%20https%3A%2F%2Fwww.googleapis.com%2Fauth%2Fdrive.photos.readonly%20https%3A%2F%2Fwww.googleapis.com%2Fauth%2Fpeopleapi.readonly&response_type=code\n",
            "\n",
            "Enter your authorization code:\n",
            "··········\n",
            "Mounted at /content/drive\n"
          ],
          "name": "stdout"
        }
      ]
    },
    {
      "cell_type": "code",
      "metadata": {
        "id": "fiEQvpj1UTN2",
        "colab_type": "code",
        "colab": {}
      },
      "source": [
        "import matplotlib.pyplot as plt\n",
        "from matplotlib.pyplot import specgram\n",
        "import librosa\n",
        "import librosa.display\n",
        "import numpy as np"
      ],
      "execution_count": 0,
      "outputs": []
    },
    {
      "cell_type": "code",
      "metadata": {
        "id": "IgYMs82HXKhq",
        "colab_type": "code",
        "colab": {}
      },
      "source": [
        "!unzip '/content/drive/My Drive/emotion_detection/emotion.zip' -d '/content/drive/My Drive/emotion_detection/data'"
      ],
      "execution_count": 0,
      "outputs": []
    },
    {
      "cell_type": "code",
      "metadata": {
        "id": "1e0Jy2B0XT2Q",
        "colab_type": "code",
        "colab": {}
      },
      "source": [
        "labels = ['disgust', 'fear', 'happy', 'neutral', 'sad']"
      ],
      "execution_count": 0,
      "outputs": []
    },
    {
      "cell_type": "code",
      "metadata": {
        "id": "GR1uj_prVO2s",
        "colab_type": "code",
        "colab": {}
      },
      "source": [
        "def create_fold_spectrograms(label, data_type):\n",
        "    spectrogram_path = Path('data/spectrogram/'+data_type)  \n",
        "    audio_path = Path('data/meld/'+data_type)  \n",
        "    print(f'Processing fold {label}')\n",
        "    os.mkdir(spectrogram_path/label)\n",
        "    i=1\n",
        "    for audio_file in list(Path(audio_path/label).glob('*.wav')):\n",
        "        i+=1\n",
        "        samples, sample_rate = librosa.load(audio_file)\n",
        "        fig = plt.figure(figsize=[0.72,0.72])\n",
        "        ax = fig.add_subplot(111)\n",
        "        ax.axes.get_xaxis().set_visible(False)\n",
        "        ax.axes.get_yaxis().set_visible(False)\n",
        "        ax.set_frame_on(False)\n",
        "        filename  = spectrogram_path/label/Path(audio_file).name.replace('.wav','.png')\n",
        "        S = librosa.feature.melspectrogram(y=samples, sr=sample_rate)\n",
        "        librosa.display.specshow(librosa.power_to_db(S, ref=np.max))\n",
        "        plt.savefig(filename, dpi=400, bbox_inches='tight',pad_inches=0)\n",
        "        plt.close('all')\n",
        "        if i%100==0:\n",
        "            print (i)"
      ],
      "execution_count": 0,
      "outputs": []
    },
    {
      "cell_type": "code",
      "metadata": {
        "id": "prdOsDN6VWDB",
        "colab_type": "code",
        "colab": {}
      },
      "source": [
        "for data_type in ['train,valid']:\n",
        "  for label in labels:\n",
        "    create_fold_spectrograms(label, data_type)"
      ],
      "execution_count": 0,
      "outputs": []
    },
    {
      "cell_type": "code",
      "metadata": {
        "id": "2XoF_5ttWLET",
        "colab_type": "code",
        "colab": {}
      },
      "source": [
        ""
      ],
      "execution_count": 0,
      "outputs": []
    },
    {
      "cell_type": "code",
      "metadata": {
        "id": "scXQBcKKWLkf",
        "colab_type": "code",
        "colab": {}
      },
      "source": [
        ""
      ],
      "execution_count": 0,
      "outputs": []
    }
  ]
}